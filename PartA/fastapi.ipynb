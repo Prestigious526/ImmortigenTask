{
 "cells": [
  {
   "cell_type": "code",
   "execution_count": 10,
   "id": "27bb5c68",
   "metadata": {},
   "outputs": [],
   "source": [
    "from fastapi import FastAPI\n",
    "\n",
    "app= FastAPI()"
   ]
  },
  {
   "cell_type": "code",
   "execution_count": 11,
   "id": "8a10c2b6",
   "metadata": {},
   "outputs": [],
   "source": [
    "import joblib\n",
    "from pydantic import BaseModel\n",
    "from typing import Dict\n",
    "\n",
    "model= joblib.load(\"model.pkl\")\n",
    "columns= joblib.load(\"features.pkl\")\n",
    "\n",
    "class InputFeatures(BaseModel):\n",
    "    features: Dict[str, float]\n"
   ]
  },
  {
   "cell_type": "code",
   "execution_count": 13,
   "id": "b3a00bcc",
   "metadata": {},
   "outputs": [],
   "source": [
    "import pandas as pd\n",
    "from datetime import datetime\n",
    "\n",
    "@app.post(\"/predict\")\n",
    "def predict(features: InputFeatures):\n",
    "    input= pd.DataFrame([features.features])\n",
    "\n",
    "    for col in columns:\n",
    "        if col not in input.columns:\n",
    "            input[col] = 0\n",
    "\n",
    "    input= input[columns]\n",
    "\n",
    "    prediction= model.predict(input)[0]\n",
    "\n",
    "    return {\n",
    "        \"timestamp\": datetime.now().isoformat(),\n",
    "        \"predicted_queue_peak\": prediction\n",
    "    }"
   ]
  }
 ],
 "metadata": {
  "kernelspec": {
   "display_name": "Python 3",
   "language": "python",
   "name": "python3"
  },
  "language_info": {
   "codemirror_mode": {
    "name": "ipython",
    "version": 3
   },
   "file_extension": ".py",
   "mimetype": "text/x-python",
   "name": "python",
   "nbconvert_exporter": "python",
   "pygments_lexer": "ipython3",
   "version": "3.11.9"
  }
 },
 "nbformat": 4,
 "nbformat_minor": 5
}
